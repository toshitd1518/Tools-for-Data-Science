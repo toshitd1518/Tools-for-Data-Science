{
 "cells": [
  {
   "cell_type": "markdown",
   "id": "8d755509-8631-472e-80b1-07eee3c0b340",
   "metadata": {},
   "source": [
    "# Data Science Tools and Ecosystem"
   ]
  },
  {
   "cell_type": "markdown",
   "id": "2ce3e228-7230-446d-81f3-91049c5b38fc",
   "metadata": {},
   "source": [
    "In this notebook, Data Science Tools and Ecosystem are summarized."
   ]
  },
  {
   "cell_type": "markdown",
   "id": "ee083bdd-5779-4d1b-9798-0de8b7595ddb",
   "metadata": {},
   "source": [
    "Some of the popular languages that Data Scientists use are:\n",
    "1. Python\n",
    "2. R\n",
    "3. Sql"
   ]
  },
  {
   "cell_type": "markdown",
   "id": "95fa0b3a-1e79-4ec0-8306-eb3a552e7c02",
   "metadata": {},
   "source": [
    "Some of the commonly used libraries used by Data Scientists include:\n",
    "\n",
    "1. Pandas\n",
    "2. NumPy\n",
    "3. Matplotlib"
   ]
  },
  {
   "cell_type": "markdown",
   "id": "90f1280c-2747-433f-acbd-feacfc59f65a",
   "metadata": {},
   "source": [
    "|Data Science Tools|\n",
    "|:----------------:|\n",
    "|Apache Spark      |\n",
    "|Mongo DB          |\n",
    "|Tensor Flow       |"
   ]
  },
  {
   "cell_type": "markdown",
   "id": "23ed3de8-a81c-4ae4-afb4-93b53de85aeb",
   "metadata": {},
   "source": [
    "### Below are a few examples of evaluating arithmetic expressions in Python"
   ]
  },
  {
   "cell_type": "code",
   "execution_count": 12,
   "id": "3354ca68-0714-4fc4-b324-f948e0ee1062",
   "metadata": {},
   "outputs": [
    {
     "data": {
      "text/plain": [
       "17"
      ]
     },
     "execution_count": 12,
     "metadata": {},
     "output_type": "execute_result"
    }
   ],
   "source": [
    "## This a simple arithmetic expression to mutiply then add integers\n",
    "(3*4)+5"
   ]
  },
  {
   "cell_type": "code",
   "execution_count": 14,
   "id": "4cc6c8ce-ddfc-46d3-af16-3f345dd9944a",
   "metadata": {},
   "outputs": [
    {
     "data": {
      "text/plain": [
       "3.3333333333333335"
      ]
     },
     "execution_count": 14,
     "metadata": {},
     "output_type": "execute_result"
    }
   ],
   "source": [
    "## This will convert 200 minutes to hours by diving by 60\n",
    "200/60"
   ]
  },
  {
   "cell_type": "markdown",
   "id": "353e2763-3c45-4224-8a54-d06bf9862ecd",
   "metadata": {},
   "source": [
    "__Objectives:__\n",
    "\n",
    "-  Python\n",
    "-  R\n",
    "-  SQL"
   ]
  },
  {
   "cell_type": "markdown",
   "id": "812d72dd-5ff5-46db-b7a2-c34224201429",
   "metadata": {},
   "source": [
    "## Author\n",
    "Toshit"
   ]
  },
  {
   "cell_type": "code",
   "execution_count": null,
   "id": "f52bc743-d387-4c95-82b5-e690e848cebb",
   "metadata": {},
   "outputs": [],
   "source": []
  }
 ],
 "metadata": {
  "kernelspec": {
   "display_name": "Python [conda env:base] *",
   "language": "python",
   "name": "conda-base-py"
  },
  "language_info": {
   "codemirror_mode": {
    "name": "ipython",
    "version": 3
   },
   "file_extension": ".py",
   "mimetype": "text/x-python",
   "name": "python",
   "nbconvert_exporter": "python",
   "pygments_lexer": "ipython3",
   "version": "3.12.7"
  }
 },
 "nbformat": 4,
 "nbformat_minor": 5
}
